{
 "cells": [
  {
   "cell_type": "code",
   "execution_count": 1,
   "metadata": {},
   "outputs": [],
   "source": [
    "import pandas as pd\n",
    "import numpy as np\n",
    "from sklearn import preprocessing"
   ]
  },
  {
   "cell_type": "markdown",
   "metadata": {},
   "source": [
    "## Labelling of train and test data"
   ]
  },
  {
   "cell_type": "code",
   "execution_count": 15,
   "metadata": {},
   "outputs": [],
   "source": [
    "import os\n",
    "df_train=pd.read_excel('train_irisdata.xlsx',sheet_name='Train',engine='openpyxl')\n",
    "df_test=pd.read_excel('test_irisdata.xlsx',engine='openpyxl')"
   ]
  },
  {
   "cell_type": "code",
   "execution_count": 16,
   "metadata": {},
   "outputs": [
    {
     "data": {
      "text/plain": [
       "(3492, 2)"
      ]
     },
     "execution_count": 16,
     "metadata": {},
     "output_type": "execute_result"
    }
   ],
   "source": [
    "df_test.shape\n"
   ]
  },
  {
   "cell_type": "code",
   "execution_count": 17,
   "metadata": {},
   "outputs": [
    {
     "data": {
      "text/plain": [
       "(13806, 2)"
      ]
     },
     "execution_count": 17,
     "metadata": {},
     "output_type": "execute_result"
    }
   ],
   "source": [
    "df_train.shape"
   ]
  },
  {
   "cell_type": "code",
   "execution_count": 18,
   "metadata": {},
   "outputs": [],
   "source": [
    "import re\n",
    "# Dictionary of english Contractions - move \n",
    "contractions_dict = { \"ain't\": \"are not\",\"'s\":\" is\",\"aren't\": \"are not\",\"can't\": \"can not\",\"can't've\": \"cannot have\",\n",
    "\"'cause\": \"because\",\"could've\": \"could have\",\"couldn't\": \"could not\",\"couldn't've\": \"could not have\",\n",
    "\"didn't\": \"did not\",\"doesn't\": \"does not\",\"don't\": \"do not\",\"hadn't\": \"had not\",\"hadn't've\": \"had not have\",\n",
    "\"hasn't\": \"has not\",\"haven't\": \"have not\",\"he'd\": \"he would\",\"he'd've\": \"he would have\",\"he'll\": \"he will\",\n",
    "\"he'll've\": \"he will have\",\"how'd\": \"how did\",\"how'd'y\": \"how do you\",\"how'll\": \"how will\",\"i'd\": \"i would\",\n",
    "\"i'd've\": \"i would have\",\"i'll\": \"i will\",\"i'll've\": \"i will have\",\"i'm\": \"i am\",\"i've\": \"i have\",\n",
    "\"isn't\": \"is not\",\"it'd\": \"it would\",\"it'd've\": \"it would have\",\"it'll\": \"it will\",\"it'll've\": \"it will have\",\n",
    "\"let's\": \"let us\",\"ma'am\": \"madam\",\"mayn't\": \"may not\",\"might've\": \"might have\",\"mightn't\": \"might not\",\n",
    "\"mightn't've\": \"might not have\",\"must've\": \"must have\",\"mustn't\": \"must not\",\"mustn't've\": \"must not have\",\n",
    "\"needn't\": \"need not\",\"needn't've\": \"need not have\",\"o'clock\": \"of the clock\",\"oughtn't\": \"ought not\",\n",
    "\"oughtn't've\": \"ought not have\",\"shan't\": \"shall not\",\"sha'n't\": \"shall not\",\n",
    "\"shan't've\": \"shall not have\",\"she'd\": \"she would\",\"she'd've\": \"she would have\",\"she'll\": \"she will\",\n",
    "\"she'll've\": \"she will have\",\"should've\": \"should have\",\"shouldn't\": \"should not\",\n",
    "\"shouldn't've\": \"should not have\",\"so've\": \"so have\",\"that'd\": \"that would\",\"that'd've\": \"that would have\",\n",
    "\"there'd\": \"there would\",\"there'd've\": \"there would have\",\n",
    "\"they'd\": \"they would\",\"they'd've\": \"they would have\",\"they'll\": \"they will\",\"they'll've\": \"they will have\",\n",
    "\"they're\": \"they are\",\"they've\": \"they have\",\"to've\": \"to have\",\"wasn't\": \"was not\",\"we'd\": \"we would\",\n",
    "\"we'd've\": \"we would have\",\"we'll\": \"we will\",\"we'll've\": \"we will have\",\"we're\": \"we are\",\"we've\": \"we have\",\n",
    "\"weren't\": \"were not\",\"what'll\": \"what will\",\"what'll've\": \"what will have\",\"what're\": \"what are\",\n",
    "\"what've\": \"what have\",\"when've\": \"when have\",\"where'd\": \"where did\",\n",
    "\"where've\": \"where have\",\"who'll\": \"who will\",\"who'll've\": \"who will have\",\"who've\": \"who have\",\n",
    "\"why've\": \"why have\",\"will've\": \"will have\",\"won't\": \"will not\",\"won't've\": \"will not have\",\n",
    "\"would've\": \"would have\",\"wouldn't\": \"would not\",\"wouldn't've\": \"would not have\",\"y'all\": \"you all\",\n",
    "\"y'all'd\": \"you all would\",\"y'all'd've\": \"you all would have\",\"y'all're\": \"you all are\",\"y'all've\": \"you all have\",\n",
    "\"you'd\": \"you would\",\"you'd've\": \"you would have\",\"you'll\": \"you will\",\"you'll've\": \"you will have\",\n",
    "\"you're\": \"you are\",\"you've\": \"you have\"}\n",
    "# Regular expression for finding contractions\n",
    "contractions_re=re.compile('(%s)' % '|'.join(contractions_dict.keys()))\n",
    "# Function for expanding contractions\n",
    "def expand_contractions(text,contractions_dict=contractions_dict):\n",
    "    def replace(match):\n",
    "        return contractions_dict[match.group(0)]\n",
    "    return contractions_re.sub(replace, text)\n",
    "# Expanding Contractions\n",
    "df_train['utterance']=df_train['utterance'].apply(lambda x:expand_contractions(x))"
   ]
  },
  {
   "cell_type": "markdown",
   "metadata": {},
   "source": [
    "## Cleaning for train data"
   ]
  },
  {
   "cell_type": "markdown",
   "metadata": {},
   "source": [
    "1. Current one arjun excluded above 30 ones\n",
    "2. We should omit utternce>30, or if you want, truncate it and take the latter portion to preserve the valueable information"
   ]
  },
  {
   "cell_type": "code",
   "execution_count": 19,
   "metadata": {},
   "outputs": [
    {
     "data": {
      "text/html": [
       "<div>\n",
       "<style scoped>\n",
       "    .dataframe tbody tr th:only-of-type {\n",
       "        vertical-align: middle;\n",
       "    }\n",
       "\n",
       "    .dataframe tbody tr th {\n",
       "        vertical-align: top;\n",
       "    }\n",
       "\n",
       "    .dataframe thead th {\n",
       "        text-align: right;\n",
       "    }\n",
       "</style>\n",
       "<table border=\"1\" class=\"dataframe\">\n",
       "  <thead>\n",
       "    <tr style=\"text-align: right;\">\n",
       "      <th></th>\n",
       "      <th>utterance</th>\n",
       "      <th>intent</th>\n",
       "    </tr>\n",
       "  </thead>\n",
       "  <tbody>\n",
       "    <tr>\n",
       "      <th>0</th>\n",
       "      <td>apply 1bank account password reset</td>\n",
       "      <td>access_management.reset_1bank_password</td>\n",
       "    </tr>\n",
       "    <tr>\n",
       "      <th>1</th>\n",
       "      <td>able see application drop box uams</td>\n",
       "      <td>access_management.missing_application_in_uams</td>\n",
       "    </tr>\n",
       "    <tr>\n",
       "      <th>2</th>\n",
       "      <td>bulk request available</td>\n",
       "      <td>access_management.process_bulk_request_bulk_ap...</td>\n",
       "    </tr>\n",
       "    <tr>\n",
       "      <th>4</th>\n",
       "      <td>1bank id password reset uams</td>\n",
       "      <td>access_management.reset_1bank_password</td>\n",
       "    </tr>\n",
       "    <tr>\n",
       "      <th>5</th>\n",
       "      <td>1bank account password reset</td>\n",
       "      <td>access_management.reset_1bank_password</td>\n",
       "    </tr>\n",
       "    <tr>\n",
       "      <th>...</th>\n",
       "      <td>...</td>\n",
       "      <td>...</td>\n",
       "    </tr>\n",
       "    <tr>\n",
       "      <th>13799</th>\n",
       "      <td>perform penetration test</td>\n",
       "      <td>cybersecurity.penetration_test</td>\n",
       "    </tr>\n",
       "    <tr>\n",
       "      <th>13800</th>\n",
       "      <td>perform screen recording</td>\n",
       "      <td>computer.how_to_record_screen</td>\n",
       "    </tr>\n",
       "    <tr>\n",
       "      <th>13803</th>\n",
       "      <td>playback recording nice portal</td>\n",
       "      <td>voice_services.playback_recording_from_niceportal</td>\n",
       "    </tr>\n",
       "    <tr>\n",
       "      <th>13804</th>\n",
       "      <td>position taskbar desktop</td>\n",
       "      <td>computer.misplaced_taskbar</td>\n",
       "    </tr>\n",
       "    <tr>\n",
       "      <th>13805</th>\n",
       "      <td>prevent machine hibernating</td>\n",
       "      <td>computer.battery_options</td>\n",
       "    </tr>\n",
       "  </tbody>\n",
       "</table>\n",
       "<p>11351 rows × 2 columns</p>\n",
       "</div>"
      ],
      "text/plain": [
       "                                utterance  \\\n",
       "0      apply 1bank account password reset   \n",
       "1      able see application drop box uams   \n",
       "2                  bulk request available   \n",
       "4            1bank id password reset uams   \n",
       "5            1bank account password reset   \n",
       "...                                   ...   \n",
       "13799            perform penetration test   \n",
       "13800            perform screen recording   \n",
       "13803      playback recording nice portal   \n",
       "13804            position taskbar desktop   \n",
       "13805         prevent machine hibernating   \n",
       "\n",
       "                                                  intent  \n",
       "0                 access_management.reset_1bank_password  \n",
       "1          access_management.missing_application_in_uams  \n",
       "2      access_management.process_bulk_request_bulk_ap...  \n",
       "4                 access_management.reset_1bank_password  \n",
       "5                 access_management.reset_1bank_password  \n",
       "...                                                  ...  \n",
       "13799                     cybersecurity.penetration_test  \n",
       "13800                      computer.how_to_record_screen  \n",
       "13803  voice_services.playback_recording_from_niceportal  \n",
       "13804                         computer.misplaced_taskbar  \n",
       "13805                           computer.battery_options  \n",
       "\n",
       "[11351 rows x 2 columns]"
      ]
     },
     "execution_count": 19,
     "metadata": {},
     "output_type": "execute_result"
    }
   ],
   "source": [
    "import re\n",
    "import string\n",
    "def clean_text(text):\n",
    "    text=str(text)\n",
    "    text=text.lower()\n",
    "    text=re.sub('\\n',' ',text)\n",
    "    text=re.sub(r\"http\\S+\", \"\", text)\n",
    "    text=re.sub('[^A-Za-z0-9]',' ',text)\n",
    "    return text\n",
    "\n",
    "def remove_punctuation(text):\n",
    "    no_punct=[words for words in text if words not in string.punctuation]\n",
    "    words_wo_punct=''.join(no_punct)\n",
    "    return words_wo_punct\n",
    "\n",
    "def tokenize(text):\n",
    "    split=re.split(\"\\W+\",text)\n",
    "    return split\n",
    "\n",
    "import nltk\n",
    "from nltk.stem import WordNetLemmatizer\n",
    "lemm=WordNetLemmatizer()\n",
    "def remove_stopwords(text):\n",
    "    stopwords=nltk.corpus.stopwords.words('english')\n",
    "    text=[lemm.lemmatize(word) for word in tokenize(text) if word not in stopwords]\n",
    "    return ' '.join(text)\n",
    "\n",
    "df_train['utterance']=df_train['utterance'].apply(lambda x: clean_text(x))\n",
    "df_train['utterance']=df_train['utterance'].apply(lambda x: re.sub(' +',' ',x))\n",
    "df_train['utterance']=df_train['utterance'].str.replace(\".\", \"\")\n",
    "df_train['utterance']=df_train['utterance'].apply(lambda x: remove_punctuation(x))\n",
    "df_train['utterance']=df_train['utterance'].apply(lambda x: remove_stopwords(x))\n",
    "\n",
    "df_train['utterance']=df_train['utterance'].str.split().str[-30:].str.join(' ')\n",
    "df_train['intent']=df_train['intent'].astype(str).str.lower()\n",
    "# selecting on > 2 len sentence utterances\n",
    "df_trainutt=df_train[\"utterance\"].values\n",
    "df_trainutt\n",
    "s = pd.Series(df_trainutt)\n",
    "df_train[\"utt\"]=s.str.split().to_frame()\n",
    "type(s.str.split().to_frame())\n",
    "df_train['Length'] = df_train['utt'].str.len()\n",
    "df_train\n",
    "#last step\n",
    "df_train.query('Length > 2', inplace = True) \n",
    "df_train=df_train[[\"utterance\",\"intent\"]]\n",
    "df_train"
   ]
  },
  {
   "cell_type": "code",
   "execution_count": 8,
   "metadata": {},
   "outputs": [],
   "source": [
    "# import spacy\n",
    "# nlp = spacy.load('en_core_web_sm',disable=['ner','parser'])\n",
    "# nlp.max_length=5000000\n",
    "# # nlp = spacy.load('C:/Users/thiyaneswaranm/Documents/New folder/model_api_gold/en_core_web_sm-2.2.5/en_core_web_sm/en_core_web_sm-2.2.5',disable=['ner','parser'])\n",
    "# def lemmatize_sent(text):\n",
    "#     doc = nlp(text)\n",
    "#     lemm_word=[]\n",
    "#     for token in doc:\n",
    "#         if (token.lemma_.casefold())!=(\"-pron-\"):\n",
    "#     #         print(token, token.lemma_,type(token.lemma_))\n",
    "#             lemm_word.append(token.lemma_)\n",
    "#         else:\n",
    "#             lemm_word.append(token)\n",
    "#     listToStr = ' '.join([str(elem) for elem in lemm_word]) \n",
    "#     return str(listToStr.lower())\n",
    "# print(lemmatize_sent(\"my am able min to\"))\n",
    "# df_train['utterance']=df_train['utterance'].apply(lemmatize_sent)"
   ]
  },
  {
   "cell_type": "markdown",
   "metadata": {},
   "source": [
    "## Cleaning for test data"
   ]
  },
  {
   "cell_type": "code",
   "execution_count": 20,
   "metadata": {},
   "outputs": [],
   "source": [
    "import re\n",
    "import string\n",
    "def clean_text(text):\n",
    "    text=str(text)\n",
    "    \n",
    "    \n",
    "    text=text.lower()\n",
    "    #text=re.sub('\\n',' ',text)\n",
    "    #text=re.sub(r\"http\\S+\", \"\", text)\n",
    "    text=re.sub('[^A-Za-z0-9]',' ',text)\n",
    "    return text\n",
    "\n",
    "def remove_punctuation(text):\n",
    "    no_punct=[words for words in text if words not in string.punctuation]\n",
    "    words_wo_punct=''.join(no_punct)\n",
    "    return words_wo_punct\n",
    "\n",
    "def tokenize(text):\n",
    "    split=re.split(\"\\W+\",text)\n",
    "    return split\n",
    "\n",
    "import nltk\n",
    "from nltk.stem import WordNetLemmatizer\n",
    "lemm=WordNetLemmatizer()\n",
    "def remove_stopwords(text):\n",
    "    stopwords=nltk.corpus.stopwords.words('english')\n",
    "    text=[lemm.lemmatize(word) for word in tokenize(text) if word not in stopwords]\n",
    "    return ' '.join(text)\n",
    "\n",
    "df_test['utterance']=df_test['utterance'].apply(lambda x: clean_text(x))\n",
    "df_test['utterance']=df_test['utterance'].apply(lambda x: re.sub(' +',' ',x))\n",
    "df_test['utterance']=df_test['utterance'].str.replace(\".\", \"\")\n",
    "df_test['utterance']=df_test['utterance'].apply(lambda x: remove_punctuation(x))\n",
    "df_test['utterance']=df_test['utterance'].apply(lambda x: remove_stopwords(x))\n",
    "df_test['intent']=df_test['intent'].astype(str).str.lower()\n",
    "\n",
    "df_test['utterance']=df_test['utterance'].str.split().str[-30:].str.join(' ')"
   ]
  },
  {
   "cell_type": "code",
   "execution_count": 11,
   "metadata": {},
   "outputs": [
    {
     "data": {
      "text/html": [
       "<div>\n",
       "<style scoped>\n",
       "    .dataframe tbody tr th:only-of-type {\n",
       "        vertical-align: middle;\n",
       "    }\n",
       "\n",
       "    .dataframe tbody tr th {\n",
       "        vertical-align: top;\n",
       "    }\n",
       "\n",
       "    .dataframe thead th {\n",
       "        text-align: right;\n",
       "    }\n",
       "</style>\n",
       "<table border=\"1\" class=\"dataframe\">\n",
       "  <thead>\n",
       "    <tr style=\"text-align: right;\">\n",
       "      <th></th>\n",
       "      <th>utterance</th>\n",
       "      <th>intent</th>\n",
       "    </tr>\n",
       "  </thead>\n",
       "  <tbody>\n",
       "    <tr>\n",
       "      <th>0</th>\n",
       "      <td>print f3w</td>\n",
       "      <td>printer_scanner.tap_and_print_frequently_asked...</td>\n",
       "    </tr>\n",
       "    <tr>\n",
       "      <th>1</th>\n",
       "      <td>oracle insallation</td>\n",
       "      <td>microsoft_office_365.onedrive_syncing_issue</td>\n",
       "    </tr>\n",
       "    <tr>\n",
       "      <th>2</th>\n",
       "      <td>want know retrigger long running oracle query</td>\n",
       "      <td>network.unable_to_access_the_internet</td>\n",
       "    </tr>\n",
       "    <tr>\n",
       "      <th>3</th>\n",
       "      <td>access huawei say available desktop please con...</td>\n",
       "      <td>access_management.unable_to_change_password</td>\n",
       "    </tr>\n",
       "    <tr>\n",
       "      <th>4</th>\n",
       "      <td>raise dcon</td>\n",
       "      <td>general_enquiry.dev_connect</td>\n",
       "    </tr>\n",
       "    <tr>\n",
       "      <th>...</th>\n",
       "      <td>...</td>\n",
       "      <td>...</td>\n",
       "    </tr>\n",
       "    <tr>\n",
       "      <th>10539</th>\n",
       "      <td>download center</td>\n",
       "      <td>computer.imac_software_installation</td>\n",
       "    </tr>\n",
       "    <tr>\n",
       "      <th>10540</th>\n",
       "      <td>download centre</td>\n",
       "      <td>computer.imac_software_installation</td>\n",
       "    </tr>\n",
       "    <tr>\n",
       "      <th>10541</th>\n",
       "      <td>get access key</td>\n",
       "      <td>mobility_suite.blackberry_work_access_key_gene...</td>\n",
       "    </tr>\n",
       "    <tr>\n",
       "      <th>10542</th>\n",
       "      <td>check asset id</td>\n",
       "      <td>computer.fixed_asset_list</td>\n",
       "    </tr>\n",
       "    <tr>\n",
       "      <th>10543</th>\n",
       "      <td>coupa expense user</td>\n",
       "      <td>general_enquiry.coupa</td>\n",
       "    </tr>\n",
       "  </tbody>\n",
       "</table>\n",
       "<p>10544 rows × 2 columns</p>\n",
       "</div>"
      ],
      "text/plain": [
       "                                               utterance  \\\n",
       "0                                              print f3w   \n",
       "1                                     oracle insallation   \n",
       "2          want know retrigger long running oracle query   \n",
       "3      access huawei say available desktop please con...   \n",
       "4                                             raise dcon   \n",
       "...                                                  ...   \n",
       "10539                                    download center   \n",
       "10540                                    download centre   \n",
       "10541                                     get access key   \n",
       "10542                                     check asset id   \n",
       "10543                                 coupa expense user   \n",
       "\n",
       "                                                  intent  \n",
       "0      printer_scanner.tap_and_print_frequently_asked...  \n",
       "1            microsoft_office_365.onedrive_syncing_issue  \n",
       "2                  network.unable_to_access_the_internet  \n",
       "3            access_management.unable_to_change_password  \n",
       "4                            general_enquiry.dev_connect  \n",
       "...                                                  ...  \n",
       "10539                computer.imac_software_installation  \n",
       "10540                computer.imac_software_installation  \n",
       "10541  mobility_suite.blackberry_work_access_key_gene...  \n",
       "10542                          computer.fixed_asset_list  \n",
       "10543                              general_enquiry.coupa  \n",
       "\n",
       "[10544 rows x 2 columns]"
      ]
     },
     "execution_count": 11,
     "metadata": {},
     "output_type": "execute_result"
    }
   ],
   "source": [
    "df_test"
   ]
  },
  {
   "cell_type": "code",
   "execution_count": null,
   "metadata": {},
   "outputs": [],
   "source": [
    "# selecting on > 2 len sentence utterances\n",
    "# df_testutt=df_test[\"utterance\"].values\n",
    "# df_testutt\n",
    "# s = pd.Series(df_testutt)\n",
    "# df_test[\"utt\"]=s.str.split().to_frame()\n",
    "# type(s.str.split().to_frame())\n",
    "# df_test['Length'] = df_test['utt'].str.len()\n",
    "# df_test\n",
    "# #last step\n",
    "# df_test.query('Length > 2', inplace = True) \n",
    "# df_test=df_test[[\"utterance\",\"intent\"]]\n",
    "# df_test['utterance'][df_test['utterance']=='']='NONE'\n",
    "# df_test"
   ]
  },
  {
   "cell_type": "markdown",
   "metadata": {},
   "source": [
    "1. remove the c intent (less than 15 utterance)(due to class imbalance). when you find c intent, you dont call the prediction and ignore it and mark it as NA"
   ]
  },
  {
   "cell_type": "code",
   "execution_count": null,
   "metadata": {},
   "outputs": [],
   "source": [
    "# more_than_15=df_train['intent'].value_counts()[df_train['intent'].value_counts()>15].index\n",
    "# df_test['intent'][df_test['intent'].isin(more_than_15)]='NA'"
   ]
  },
  {
   "cell_type": "code",
   "execution_count": null,
   "metadata": {},
   "outputs": [],
   "source": [
    "df_test"
   ]
  },
  {
   "cell_type": "markdown",
   "metadata": {},
   "source": [
    "## Labelling"
   ]
  },
  {
   "cell_type": "code",
   "execution_count": 21,
   "metadata": {},
   "outputs": [],
   "source": [
    "#df=pd.concat([df_train[['utterance','intent']],df_test[['utterance','intent']]])\n",
    "le=preprocessing.LabelEncoder()\n",
    "le.fit(df_train['intent'])\n",
    "\n",
    "df_train['intent1']=le.transform(df_train['intent'])\n",
    "mapping=df_train[['intent','intent1']].drop_duplicates().rename(columns={'intent1':'mapping'})\n",
    "\n",
    "df_test=pd.merge(df_test,mapping,on='intent',how='left').rename(columns={'mapping':'intent1'})\n",
    "\n",
    "df_test['intent1']=df_test['intent1'].fillna(0).astype(int)"
   ]
  },
  {
   "cell_type": "markdown",
   "metadata": {},
   "source": [
    "## Save the files"
   ]
  },
  {
   "cell_type": "code",
   "execution_count": 22,
   "metadata": {},
   "outputs": [],
   "source": [
    "df_train.to_excel('train_iris_fullcleaned.xlsx',index=None)\n",
    "\n",
    "writer=pd.ExcelWriter('test_iris_fullcleaned.xlsx',engine='xlsxwriter')\n",
    "\n",
    "df_test.to_excel(writer,sheet_name='Test',index=None)\n",
    "mapping.to_excel(writer,sheet_name='Mapping',index=None)\n",
    "\n",
    "writer.save()"
   ]
  },
  {
   "cell_type": "code",
   "execution_count": null,
   "metadata": {},
   "outputs": [],
   "source": []
  }
 ],
 "metadata": {
  "kernelspec": {
   "display_name": "Python 3",
   "language": "python",
   "name": "python3"
  },
  "language_info": {
   "codemirror_mode": {
    "name": "ipython",
    "version": 3
   },
   "file_extension": ".py",
   "mimetype": "text/x-python",
   "name": "python",
   "nbconvert_exporter": "python",
   "pygments_lexer": "ipython3",
   "version": "3.8.5"
  }
 },
 "nbformat": 4,
 "nbformat_minor": 4
}
