{
 "cells": [
  {
   "cell_type": "code",
   "execution_count": 6,
   "metadata": {},
   "outputs": [],
   "source": [
    "import pandas as pd\n",
    "df1=pd.read_csv(\"transcripts.csv\")\n",
    "\n",
    "df1.columns\n",
    "\n",
    "df1['Remarks'].iloc[5]\n",
    "\n",
    "import json\n",
    "\n",
    "k=pd.DataFrame(json.loads(df1['Remarks'].iloc[5])).reset_index()\n",
    "\n",
    "pd.Series(json.loads(df1['Remarks'].iloc[5])).apply(lambda x:x['intent'])\n",
    "\n",
    "df1['Remarks'].fillna('[{}]').apply(lambda x: pd.Series(json.loads(x)))\n",
    "\n",
    "k['Intent_name']='intent_'+k['index'].astype(str)\n",
    "k['confidence_score']='confidence_'+k['index'].astype(str)\n",
    "\n"
   ]
  },
  {
   "cell_type": "code",
   "execution_count": null,
   "metadata": {},
   "outputs": [],
   "source": []
  },
  {
   "cell_type": "code",
   "execution_count": null,
   "metadata": {},
   "outputs": [],
   "source": []
  }
 ],
 "metadata": {
  "kernelspec": {
   "display_name": "Python 3",
   "language": "python",
   "name": "python3"
  },
  "language_info": {
   "codemirror_mode": {
    "name": "ipython",
    "version": 3
   },
   "file_extension": ".py",
   "mimetype": "text/x-python",
   "name": "python",
   "nbconvert_exporter": "python",
   "pygments_lexer": "ipython3",
   "version": "3.8.5"
  }
 },
 "nbformat": 4,
 "nbformat_minor": 4
}
