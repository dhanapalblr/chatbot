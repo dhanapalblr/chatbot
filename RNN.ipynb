{
 "cells": [
  {
   "cell_type": "code",
   "execution_count": 1,
   "metadata": {},
   "outputs": [],
   "source": [
    "import pandas as pd\n",
    "import numpy as np\n",
    "import seaborn as sns\n",
    "import matplotlib.pyplot as plt\n",
    "from sklearn.feature_extraction.text import CountVectorizer\n",
    "import nltk \n",
    "import string\n",
    "import re\n",
    "%matplotlib inline\n",
    "pd.set_option('display.max_colwidth', 100)\n",
    "from keras.layers import Dropout, Dense, GRU, Embedding\n",
    "from keras.models import Sequential\n",
    "from sklearn.feature_extraction.text import TfidfVectorizer\n",
    "import numpy as np\n",
    "from sklearn import metrics\n",
    "from keras.preprocessing.text import Tokenizer\n",
    "from keras.preprocessing.sequence import pad_sequences\n",
    "from sklearn.datasets import fetch_20newsgroups"
   ]
  },
  {
   "cell_type": "code",
   "execution_count": 2,
   "metadata": {},
   "outputs": [],
   "source": [
    "df=pd.read_excel('RNN-data.xlsx')\n",
    "df['intent_cleaned']=df.intent.str.split('.').str.get(0) # split the intent with dot and take 1st\n",
    "\n",
    "def remove_punct(text):\n",
    "    text  = \"\".join([char for char in text if char not in string.punctuation])\n",
    "    text = re.sub('[0-9]+', '', text)\n",
    "    return text\n",
    "\n",
    "stopword = nltk.corpus.stopwords.words('english')\n",
    "\n",
    "def remove_stopwords(text):\n",
    "    text = [word for word in re.split('\\W+', text) if word not in stopword]\n",
    "    return text\n",
    "\n",
    "ps = nltk.PorterStemmer()\n",
    "\n",
    "def stemming(text):\n",
    "    text = [ps.stem(word) for word in text]\n",
    "    return text\n",
    "\n",
    "wn = nltk.WordNetLemmatizer()\n",
    "\n",
    "def lemmatizer(text):\n",
    "    text = [wn.lemmatize(word) for word in text]\n",
    "    return ' '.join(text)\n",
    "\n",
    "def clean_data(x):\n",
    "    x=x.encode('ascii','ignore').decode() # remove texts other than english\n",
    "    x=re.sub('https*\\S+','',x) # remove urls\n",
    "    x=remove_punct(x) # remove punctuations\n",
    "    x=remove_stopwords(x) # remove stopwords\n",
    "    x=stemming(x) # stemming\n",
    "    x=lemmatizer(x) # lemmatization\n",
    "    return x\n",
    "\n",
    "df['utterance_cleaned']=df['utterance'].apply(lambda x: clean_data(x))"
   ]
  },
  {
   "cell_type": "markdown",
   "metadata": {},
   "source": [
    "# RNN"
   ]
  },
  {
   "cell_type": "code",
   "execution_count": 3,
   "metadata": {},
   "outputs": [],
   "source": [
    "def TFIDF(X_train, X_test, MAX_NB_WORDS=75000):\n",
    "    \n",
    "    vectorizer_x = TfidfVectorizer(max_features=MAX_NB_WORDS)\n",
    "    X_train = vectorizer_x.fit_transform(X_train).toarray()\n",
    "    X_test = vectorizer_x.transform(X_test).toarray()\n",
    "    print(\"tf-idf with\",str(np.array(X_train).shape[1]),\"features\")\n",
    "    \n",
    "    return (X_train,X_test)\n",
    "\n",
    "from sklearn.model_selection import train_test_split\n",
    "X=df['utterance_cleaned']\n",
    "y=df['intent_cleaned']\n",
    "X_train, X_test, y_train, y_test = train_test_split(X, y, test_size=0.33, random_state=42)"
   ]
  },
  {
   "cell_type": "code",
   "execution_count": 4,
   "metadata": {},
   "outputs": [],
   "source": [
    "import csv\n",
    "import tensorflow as tf\n",
    "import numpy as np\n",
    "from tensorflow.keras.preprocessing.text import Tokenizer\n",
    "from tensorflow.keras.preprocessing.sequence import pad_sequences\n",
    "from tensorflow.keras.models import Sequential\n",
    "from tensorflow.keras.layers import Dense, Flatten, LSTM, Dropout, Activation, Embedding, Bidirectional\n",
    "\n",
    "vocab_size = 5000 # make the top list of words (common words)\n",
    "embedding_dim = 64\n",
    "max_length = 200\n",
    "trunc_type = 'post'\n",
    "padding_type = 'post'\n",
    "oov_tok = '<OOV>' # OOV = Out of Vocabulary\n",
    "training_portion = .8\n",
    "\n",
    "tokenizer = Tokenizer(num_words = vocab_size, oov_token=oov_tok)\n",
    "tokenizer.fit_on_texts(X_train)\n",
    "word_index = tokenizer.word_index\n",
    "\n",
    "train_sequences = tokenizer.texts_to_sequences(X_train)\n",
    "\n",
    "train_padded = pad_sequences(train_sequences, maxlen=max_length, padding=padding_type, truncating=trunc_type)\n",
    "\n",
    "validation_sequences = tokenizer.texts_to_sequences(X_test)\n",
    "validation_padded = pad_sequences(validation_sequences, maxlen=max_length, padding=padding_type, truncating=trunc_type)\n"
   ]
  },
  {
   "cell_type": "code",
   "execution_count": 48,
   "metadata": {},
   "outputs": [
    {
     "data": {
      "text/plain": [
       "OneHotEncoder()"
      ]
     },
     "execution_count": 48,
     "metadata": {},
     "output_type": "execute_result"
    }
   ],
   "source": [
    "from sklearn import preprocessing\n",
    "le = preprocessing.OneHotEncoder()\n",
    "le.fit(pd.DataFrame(y))\n",
    "\n",
    "y_train_encoded=le.transform(pd.DataFrame(y_train)).toarray()\n",
    "y_test_encoded=le.transform(pd.DataFrame(y_test)).toarray()\n",
    "\n",
    "model=Sequential()\n",
    "model.add(Embedding(vocab_size,embedding_dim))\n",
    "model.add(Dropout(0.5))\n",
    "model.add(Bidirectional(LSTM(embedding_dim)))\n",
    "model.add(Dense(13,activation='softmax'))\n",
    "model.summary()\n",
    "\n",
    "opt = tf.keras.optimizers.Adam(lr=0.01, decay=1e-6)\n",
    "model.compile(\n",
    "    loss='categorical_crossentropy',\n",
    "    optimizer=opt,\n",
    "    metrics=['accuracy'],\n",
    ")"
   ]
  },
  {
   "cell_type": "code",
   "execution_count": 72,
   "metadata": {},
   "outputs": [
    {
     "name": "stdout",
     "output_type": "stream",
     "text": [
      "Epoch 1/10\n",
      "2/2 - 1s - loss: 2.5296 - accuracy: 0.0682 - val_loss: 2.1201 - val_accuracy: 0.3043\n",
      "Epoch 2/10\n",
      "2/2 - 0s - loss: 2.1323 - accuracy: 0.2500 - val_loss: 2.2385 - val_accuracy: 0.1304\n",
      "Epoch 3/10\n",
      "2/2 - 0s - loss: 2.0990 - accuracy: 0.2045 - val_loss: 2.1277 - val_accuracy: 0.3043\n",
      "Epoch 4/10\n",
      "2/2 - 0s - loss: 2.0433 - accuracy: 0.2500 - val_loss: 2.1045 - val_accuracy: 0.3478\n",
      "Epoch 5/10\n",
      "2/2 - 0s - loss: 1.9210 - accuracy: 0.4318 - val_loss: 2.0897 - val_accuracy: 0.3478\n",
      "Epoch 6/10\n",
      "2/2 - 0s - loss: 1.8264 - accuracy: 0.4318 - val_loss: 2.0900 - val_accuracy: 0.3478\n",
      "Epoch 7/10\n",
      "2/2 - 0s - loss: 1.6758 - accuracy: 0.5682 - val_loss: 2.0433 - val_accuracy: 0.3913\n",
      "Epoch 8/10\n",
      "2/2 - 0s - loss: 1.4744 - accuracy: 0.6136 - val_loss: 1.9799 - val_accuracy: 0.4348\n",
      "Epoch 9/10\n",
      "2/2 - 0s - loss: 1.1660 - accuracy: 0.6136 - val_loss: 1.9949 - val_accuracy: 0.3913\n",
      "Epoch 10/10\n",
      "2/2 - 0s - loss: 0.9297 - accuracy: 0.7273 - val_loss: 2.0872 - val_accuracy: 0.3478\n"
     ]
    }
   ],
   "source": [
    "num_epochs = 10\n",
    "history = model.fit(train_padded, y_train_encoded, epochs=num_epochs, validation_data=(validation_padded, y_test_encoded), verbose=2)"
   ]
  },
  {
   "cell_type": "code",
   "execution_count": 82,
   "metadata": {},
   "outputs": [],
   "source": [
    "y_pred=pd.DataFrame(le.inverse_transform(model.predict(validation_padded))).values\n",
    "\n",
    "y_test=pd.DataFrame(y_test).values\n",
    "\n",
    "from sklearn.metrics import confusion_matrix\n",
    "cf=confusion_matrix(y_test, y_pred,labels=np.unique(y_test))\n",
    "\n",
    "import seaborn as sn\n",
    "df_cm = pd.DataFrame(cf,index=np.unique(y_test),columns=np.unique(y_test))\n",
    "plt.figure(figsize = (10,7))\n",
    "sn.heatmap(df_cm, annot=True)"
   ]
  },
  {
   "cell_type": "code",
   "execution_count": 103,
   "metadata": {},
   "outputs": [
    {
     "data": {
      "text/plain": [
       "computer                           18\n",
       "microsoft_office_365               13\n",
       "access_management                  11\n",
       "network                             7\n",
       "application_system                  7\n",
       "mobility_suits                      3\n",
       "cybersecurity                       2\n",
       "voice_services                      1\n",
       "change_management                   1\n",
       "printer_scanner                     1\n",
       "general_enquiry                     1\n",
       "incident_and_problem_management     1\n",
       "applications_systems                1\n",
       "Name: intent_cleaned, dtype: int64"
      ]
     },
     "execution_count": 103,
     "metadata": {},
     "output_type": "execute_result"
    }
   ],
   "source": [
    "y.value_counts()"
   ]
  }
 ],
 "metadata": {
  "kernelspec": {
   "display_name": "Python 3",
   "language": "python",
   "name": "python3"
  },
  "language_info": {
   "codemirror_mode": {
    "name": "ipython",
    "version": 3
   },
   "file_extension": ".py",
   "mimetype": "text/x-python",
   "name": "python",
   "nbconvert_exporter": "python",
   "pygments_lexer": "ipython3",
   "version": "3.8.5"
  },
  "toc": {
   "base_numbering": 1,
   "nav_menu": {},
   "number_sections": true,
   "sideBar": true,
   "skip_h1_title": false,
   "title_cell": "Table of Contents",
   "title_sidebar": "Contents",
   "toc_cell": false,
   "toc_position": {},
   "toc_section_display": true,
   "toc_window_display": false
  },
  "varInspector": {
   "cols": {
    "lenName": 16,
    "lenType": 16,
    "lenVar": 40
   },
   "kernels_config": {
    "python": {
     "delete_cmd_postfix": "",
     "delete_cmd_prefix": "del ",
     "library": "var_list.py",
     "varRefreshCmd": "print(var_dic_list())"
    },
    "r": {
     "delete_cmd_postfix": ") ",
     "delete_cmd_prefix": "rm(",
     "library": "var_list.r",
     "varRefreshCmd": "cat(var_dic_list()) "
    }
   },
   "types_to_exclude": [
    "module",
    "function",
    "builtin_function_or_method",
    "instance",
    "_Feature"
   ],
   "window_display": false
  }
 },
 "nbformat": 4,
 "nbformat_minor": 4
}
