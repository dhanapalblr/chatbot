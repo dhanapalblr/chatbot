{
 "cells": [
  {
   "cell_type": "code",
   "execution_count": 63,
   "metadata": {},
   "outputs": [],
   "source": [
    "import pandas as pd\n",
    "import numpy as np\n",
    "from sklearn import preprocessing"
   ]
  },
  {
   "cell_type": "markdown",
   "metadata": {},
   "source": [
    "## Labelling of train and test data"
   ]
  },
  {
   "cell_type": "code",
   "execution_count": 116,
   "metadata": {},
   "outputs": [],
   "source": [
    "import os\n",
    "df_train=pd.read_excel('trainhiri-rs-new.xlsx',sheet_name='Train')\n",
    "df_test=pd.read_excel('Test_sample.xlsx')"
   ]
  },
  {
   "cell_type": "markdown",
   "metadata": {},
   "source": [
    "## Cleaning for train data"
   ]
  },
  {
   "cell_type": "code",
   "execution_count": 117,
   "metadata": {},
   "outputs": [
    {
     "data": {
      "text/html": [
       "<div>\n",
       "<style scoped>\n",
       "    .dataframe tbody tr th:only-of-type {\n",
       "        vertical-align: middle;\n",
       "    }\n",
       "\n",
       "    .dataframe tbody tr th {\n",
       "        vertical-align: top;\n",
       "    }\n",
       "\n",
       "    .dataframe thead th {\n",
       "        text-align: right;\n",
       "    }\n",
       "</style>\n",
       "<table border=\"1\" class=\"dataframe\">\n",
       "  <thead>\n",
       "    <tr style=\"text-align: right;\">\n",
       "      <th></th>\n",
       "      <th>utterance</th>\n",
       "      <th>intent</th>\n",
       "    </tr>\n",
       "  </thead>\n",
       "  <tbody>\n",
       "    <tr>\n",
       "      <th>0</th>\n",
       "      <td>i am unable to access my profile through dbs ...</td>\n",
       "      <td>onboarding.letter_of_appointment</td>\n",
       "    </tr>\n",
       "    <tr>\n",
       "      <th>1</th>\n",
       "      <td>i have not received any notice of new team me...</td>\n",
       "      <td>onboarding.arrangements_for_new_hire_prior_to_...</td>\n",
       "    </tr>\n",
       "    <tr>\n",
       "      <th>2</th>\n",
       "      <td>500 iflex top up</td>\n",
       "      <td>iflex.what_can_be_claimed_against_iflex</td>\n",
       "    </tr>\n",
       "    <tr>\n",
       "      <th>3</th>\n",
       "      <td>1 lot of dbs share</td>\n",
       "      <td>shares.how_can_i_find_out_the_price_of_a_dbsh_...</td>\n",
       "    </tr>\n",
       "    <tr>\n",
       "      <th>5</th>\n",
       "      <td>13 month bonus</td>\n",
       "      <td>payroll.annual_wage_supplement</td>\n",
       "    </tr>\n",
       "    <tr>\n",
       "      <th>...</th>\n",
       "      <td>...</td>\n",
       "      <td>...</td>\n",
       "    </tr>\n",
       "    <tr>\n",
       "      <th>16569</th>\n",
       "      <td>year end compensation review</td>\n",
       "      <td>compensation.how_to_access_the_year-end_comp_r...</td>\n",
       "    </tr>\n",
       "    <tr>\n",
       "      <th>16570</th>\n",
       "      <td>yearly annual leave</td>\n",
       "      <td>leave.can_i_take_leave</td>\n",
       "    </tr>\n",
       "    <tr>\n",
       "      <th>16571</th>\n",
       "      <td>yearly bonus crediting date</td>\n",
       "      <td>payroll.when_is_our_bonus_credited</td>\n",
       "    </tr>\n",
       "    <tr>\n",
       "      <th>16572</th>\n",
       "      <td>yearly bonus date</td>\n",
       "      <td>payroll.when_is_our_bonus_credited</td>\n",
       "    </tr>\n",
       "    <tr>\n",
       "      <th>16573</th>\n",
       "      <td>yearly due date for course registration</td>\n",
       "      <td>training.what_is_the_official_cut-off_date_and...</td>\n",
       "    </tr>\n",
       "  </tbody>\n",
       "</table>\n",
       "<p>15521 rows × 2 columns</p>\n",
       "</div>"
      ],
      "text/plain": [
       "                                               utterance  \\\n",
       "0       i am unable to access my profile through dbs ...   \n",
       "1       i have not received any notice of new team me...   \n",
       "2                                       500 iflex top up   \n",
       "3                                     1 lot of dbs share   \n",
       "5                                         13 month bonus   \n",
       "...                                                  ...   \n",
       "16569                       year end compensation review   \n",
       "16570                                yearly annual leave   \n",
       "16571                        yearly bonus crediting date   \n",
       "16572                                  yearly bonus date   \n",
       "16573            yearly due date for course registration   \n",
       "\n",
       "                                                  intent  \n",
       "0                       onboarding.letter_of_appointment  \n",
       "1      onboarding.arrangements_for_new_hire_prior_to_...  \n",
       "2                iflex.what_can_be_claimed_against_iflex  \n",
       "3      shares.how_can_i_find_out_the_price_of_a_dbsh_...  \n",
       "5                         payroll.annual_wage_supplement  \n",
       "...                                                  ...  \n",
       "16569  compensation.how_to_access_the_year-end_comp_r...  \n",
       "16570                             leave.can_i_take_leave  \n",
       "16571                 payroll.when_is_our_bonus_credited  \n",
       "16572                 payroll.when_is_our_bonus_credited  \n",
       "16573  training.what_is_the_official_cut-off_date_and...  \n",
       "\n",
       "[15521 rows x 2 columns]"
      ]
     },
     "execution_count": 117,
     "metadata": {},
     "output_type": "execute_result"
    }
   ],
   "source": [
    "import re\n",
    "def clean_text(text):\n",
    "    text=text.lower()\n",
    "#     text=re.sub('\\w*\\d\\w*','', text)\n",
    "    text=re.sub('\\n',' ',text)\n",
    "    text=re.sub(r\"http\\S+\", \"\", text)\n",
    "    text=re.sub('[^A-Za-z0-9]',' ',text)\n",
    "    return text\n",
    "\n",
    "df_train['utterance']=df_train['utterance'].apply(lambda x: clean_text(x))\n",
    "df_train['utterance']=df_train['utterance'].apply(lambda x: re.sub(' +',' ',x))\n",
    "df_train['utterance']=df_train['utterance'].str.replace(\".\", \"\")\n",
    "\n",
    "# selecting on > 2 len sentence utterances\n",
    "df_trainutt=df_train[\"utterance\"].values\n",
    "df_trainutt\n",
    "s = pd.Series(df_trainutt)\n",
    "df_train[\"utt\"]=s.str.split().to_frame()\n",
    "type(s.str.split().to_frame())\n",
    "df_train['Length'] = df_train['utt'].str.len()\n",
    "df_train\n",
    "#last step\n",
    "df_train.query('Length > 2', inplace = True) \n",
    "df_train=df_train[[\"utterance\",\"intent\"]]\n",
    "df_train"
   ]
  },
  {
   "cell_type": "markdown",
   "metadata": {},
   "source": [
    "## Cleaning for test data"
   ]
  },
  {
   "cell_type": "code",
   "execution_count": 118,
   "metadata": {},
   "outputs": [
    {
     "data": {
      "text/html": [
       "<div>\n",
       "<style scoped>\n",
       "    .dataframe tbody tr th:only-of-type {\n",
       "        vertical-align: middle;\n",
       "    }\n",
       "\n",
       "    .dataframe tbody tr th {\n",
       "        vertical-align: top;\n",
       "    }\n",
       "\n",
       "    .dataframe thead th {\n",
       "        text-align: right;\n",
       "    }\n",
       "</style>\n",
       "<table border=\"1\" class=\"dataframe\">\n",
       "  <thead>\n",
       "    <tr style=\"text-align: right;\">\n",
       "      <th></th>\n",
       "      <th>utterance</th>\n",
       "      <th>intent</th>\n",
       "    </tr>\n",
       "  </thead>\n",
       "  <tbody>\n",
       "    <tr>\n",
       "      <th>0</th>\n",
       "      <td>staff overseas rate</td>\n",
       "      <td>payroll.transfer_my_previous_employer_orso_con...</td>\n",
       "    </tr>\n",
       "    <tr>\n",
       "      <th>1</th>\n",
       "      <td>overseas fund transfer for staff</td>\n",
       "      <td>internal_mobility.internal_mobility_eligibilit...</td>\n",
       "    </tr>\n",
       "    <tr>\n",
       "      <th>2</th>\n",
       "      <td>carry over leave</td>\n",
       "      <td>leave.can_i_carry_forward_my_leave</td>\n",
       "    </tr>\n",
       "    <tr>\n",
       "      <th>3</th>\n",
       "      <td>dbs shares</td>\n",
       "      <td>shares.crediting_of_contribution_shares</td>\n",
       "    </tr>\n",
       "    <tr>\n",
       "      <th>4</th>\n",
       "      <td>mobility</td>\n",
       "      <td>internal_mobility.internal_mobility</td>\n",
       "    </tr>\n",
       "    <tr>\n",
       "      <th>...</th>\n",
       "      <td>...</td>\n",
       "      <td>...</td>\n",
       "    </tr>\n",
       "    <tr>\n",
       "      <th>3790</th>\n",
       "      <td>how do i enrol for ishares</td>\n",
       "      <td>shares.how_to_join_ishares</td>\n",
       "    </tr>\n",
       "    <tr>\n",
       "      <th>3791</th>\n",
       "      <td>how do i change the contribution for ishares</td>\n",
       "      <td>shares.can_i_stop_or_change_my_ishares_contrib...</td>\n",
       "    </tr>\n",
       "    <tr>\n",
       "      <th>3792</th>\n",
       "      <td>how can i reactivate</td>\n",
       "      <td>future_of_work.do_i_need_to_be_upskilled_or_re...</td>\n",
       "    </tr>\n",
       "    <tr>\n",
       "      <th>3793</th>\n",
       "      <td>hi my access has been denied due to password e...</td>\n",
       "      <td>onboarding.new_hire_1bank_password</td>\n",
       "    </tr>\n",
       "    <tr>\n",
       "      <th>3794</th>\n",
       "      <td>when will i receive my referral fee</td>\n",
       "      <td>employee_referral_programme.one_name_each_guide</td>\n",
       "    </tr>\n",
       "  </tbody>\n",
       "</table>\n",
       "<p>3795 rows × 2 columns</p>\n",
       "</div>"
      ],
      "text/plain": [
       "                                              utterance  \\\n",
       "0                                   staff overseas rate   \n",
       "1                      overseas fund transfer for staff   \n",
       "2                                      carry over leave   \n",
       "3                                            dbs shares   \n",
       "4                                              mobility   \n",
       "...                                                 ...   \n",
       "3790                         how do i enrol for ishares   \n",
       "3791       how do i change the contribution for ishares   \n",
       "3792                              how can i reactivate    \n",
       "3793  hi my access has been denied due to password e...   \n",
       "3794                when will i receive my referral fee   \n",
       "\n",
       "                                                 intent  \n",
       "0     payroll.transfer_my_previous_employer_orso_con...  \n",
       "1     internal_mobility.internal_mobility_eligibilit...  \n",
       "2                    leave.can_i_carry_forward_my_leave  \n",
       "3               shares.crediting_of_contribution_shares  \n",
       "4                   internal_mobility.internal_mobility  \n",
       "...                                                 ...  \n",
       "3790                         shares.how_to_join_ishares  \n",
       "3791  shares.can_i_stop_or_change_my_ishares_contrib...  \n",
       "3792  future_of_work.do_i_need_to_be_upskilled_or_re...  \n",
       "3793                 onboarding.new_hire_1bank_password  \n",
       "3794    employee_referral_programme.one_name_each_guide  \n",
       "\n",
       "[3795 rows x 2 columns]"
      ]
     },
     "execution_count": 118,
     "metadata": {},
     "output_type": "execute_result"
    }
   ],
   "source": [
    "import re\n",
    "def clean_text(text):\n",
    "    text=text.lower()\n",
    "#     text=re.sub('\\w*\\d\\w*','', text)\n",
    "    #text=re.sub('\\n',' ',text)\n",
    "    #text=re.sub(r\"http\\S+\", \"\", text)\n",
    "    text=re.sub('[^A-Za-z0-9]',' ',text)\n",
    "    return text\n",
    "df_test['utterance']=df_test['utterance'].astype(str)\n",
    "df_test['utterance']=df_test['utterance'].apply(lambda x: clean_text(x))\n",
    "\n",
    "df_test['utterance']\n",
    "\n",
    "df_test['utterance']=df_test['utterance'].apply(lambda x: re.sub(' +',' ',x))\n",
    "df_test['utterance']=df_test['utterance'].str.replace(\".\", \"\")\n",
    "\n",
    "df_test=df_test[[\"utterance\",\"intent\"]]\n",
    "df_test"
   ]
  },
  {
   "cell_type": "code",
   "execution_count": 119,
   "metadata": {},
   "outputs": [],
   "source": [
    "df_test['utterance'][df_test['utterance']=='']='NONE'"
   ]
  },
  {
   "cell_type": "markdown",
   "metadata": {},
   "source": [
    "## Labelling"
   ]
  },
  {
   "cell_type": "code",
   "execution_count": 120,
   "metadata": {},
   "outputs": [],
   "source": [
    "#df=pd.concat([df_train[['utterance','intent']],df_test[['utterance','intent']]])\n",
    "le=preprocessing.LabelEncoder()\n",
    "le.fit(df_train['intent'])\n",
    "\n",
    "df_train['intent1']=le.transform(df_train['intent'])\n",
    "df_test['intent1']=0\n",
    "\n",
    "mapping=df_train[['intent','intent1']].drop_duplicates().rename(columns={'intent1':'mapping'})"
   ]
  },
  {
   "cell_type": "markdown",
   "metadata": {},
   "source": [
    "## Save the files"
   ]
  },
  {
   "cell_type": "code",
   "execution_count": 124,
   "metadata": {},
   "outputs": [],
   "source": [
    "df_train.to_excel('trainhiri-rs-new-labelled.xlsx',index=None)"
   ]
  },
  {
   "cell_type": "code",
   "execution_count": 125,
   "metadata": {},
   "outputs": [],
   "source": [
    "writer=pd.ExcelWriter('testhiri-rs-new-labelled.xlsx',engine='xlsxwriter')"
   ]
  },
  {
   "cell_type": "code",
   "execution_count": 126,
   "metadata": {},
   "outputs": [],
   "source": [
    "df_test.to_excel(writer,sheet_name='Test',index=None)\n",
    "mapping.to_excel(writer,sheet_name='Mapping',index=None)"
   ]
  },
  {
   "cell_type": "code",
   "execution_count": 127,
   "metadata": {},
   "outputs": [],
   "source": [
    "writer.save()"
   ]
  },
  {
   "cell_type": "code",
   "execution_count": null,
   "metadata": {},
   "outputs": [],
   "source": []
  }
 ],
 "metadata": {
  "kernelspec": {
   "display_name": "Python 3",
   "language": "python",
   "name": "python3"
  },
  "language_info": {
   "codemirror_mode": {
    "name": "ipython",
    "version": 3
   },
   "file_extension": ".py",
   "mimetype": "text/x-python",
   "name": "python",
   "nbconvert_exporter": "python",
   "pygments_lexer": "ipython3",
   "version": "3.8.5"
  }
 },
 "nbformat": 4,
 "nbformat_minor": 4
}
